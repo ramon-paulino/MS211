{
 "cells": [
  {
   "cell_type": "markdown",
   "id": "27958d39",
   "metadata": {},
   "source": [
    "Nome: Ramon Gomes Paulino       - RA: 250504"
   ]
  },
  {
   "cell_type": "code",
   "execution_count": 1,
   "id": "6fc9efa9",
   "metadata": {},
   "outputs": [],
   "source": [
    "import numpy as np\n",
    "import matplotlib.pyplot as plt"
   ]
  },
  {
   "cell_type": "markdown",
   "id": "e401bcdc",
   "metadata": {},
   "source": [
    "1- (a) Calcule a porcentagem de indivíduos susceptíveis, infectados e recuperados em t = 50, ou seja, deter-\n",
    "mine S(50), I(50) e R(50)."
   ]
  },
  {
   "cell_type": "markdown",
   "id": "3d1787e0",
   "metadata": {},
   "source": [
    "Como o modelo é dado por equações diferenciais com valores iniciais dados, podemos resolver o sistema utilizando método de euler:"
   ]
  },
  {
   "cell_type": "code",
   "execution_count": 6,
   "id": "660960b8",
   "metadata": {},
   "outputs": [
    {
     "name": "stdout",
     "output_type": "stream",
     "text": [
      "Em t = 50, temos:\n",
      "S(50) = 0.0768\n",
      "I(50) = 0.0000\n",
      "R(50) = 0.9232\n"
     ]
    }
   ],
   "source": [
    "# Parâmetros do modelo SIR\n",
    "beta = 0.8  # Taxa de transmissão\n",
    "gamma = 0.3125  # Taxa de recuperação\n",
    "N = 1000  # População total\n",
    "\n",
    "# Condições iniciais\n",
    "S0 = 0.99  # Indivíduos suscetíveis iniciais\n",
    "I0 = 0.01  # Indivíduos infectados iniciais\n",
    "R0 = 0    # Indivíduos recuperados iniciais\n",
    "\n",
    "# Tempo de simulação\n",
    "t_max = 50\n",
    "\n",
    "# Passo de tempo\n",
    "dt = 1\n",
    "\n",
    "# Inicialização das listas para armazenar os resultados\n",
    "t = []\n",
    "S = [S0]\n",
    "I = [I0]\n",
    "R = [R0]\n",
    "\n",
    "# Método de Euler para resolver as equações diferenciais\n",
    "for i in range(1,int(t_max/dt) + 1):\n",
    "    dSdt = -beta * I[i-1] * S[i-1]\n",
    "    dIdt = beta * I[i-1] * S[i-1] - gamma * I[i-1]\n",
    "    dRdt = gamma * I[i-1]\n",
    "\n",
    "    S.append(S[i-1] + dSdt * dt)\n",
    "    I.append(I[i-1] + dIdt * dt)\n",
    "    R.append(R[i-1] + dRdt * dt)\n",
    "  \n",
    "print(f\"Em t = {t_max}, temos:\")\n",
    "print(f\"S({t_max}) = {S[-1]:.4f}\")  \n",
    "print(f\"I({t_max}) = {I[-1]:.4f}\")\n",
    "print(f\"R({t_max}) = {R[-1]:.4f}\")\n"
   ]
  }
 ],
 "metadata": {
  "kernelspec": {
   "display_name": "Python 3",
   "language": "python",
   "name": "python3"
  },
  "language_info": {
   "codemirror_mode": {
    "name": "ipython",
    "version": 3
   },
   "file_extension": ".py",
   "mimetype": "text/x-python",
   "name": "python",
   "nbconvert_exporter": "python",
   "pygments_lexer": "ipython3",
   "version": "3.11.2"
  }
 },
 "nbformat": 4,
 "nbformat_minor": 5
}
