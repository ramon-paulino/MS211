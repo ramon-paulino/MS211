{
 "cells": [
  {
   "cell_type": "markdown",
   "id": "5fe68d94",
   "metadata": {},
   "source": [
    "Nome: Ramon Gomes Paulino   RA:250504"
   ]
  },
  {
   "cell_type": "code",
   "execution_count": 9,
   "id": "4deb93c9",
   "metadata": {},
   "outputs": [],
   "source": [
    "import numpy as np\n",
    "import matplotlib.pyplot as plt"
   ]
  },
  {
   "cell_type": "markdown",
   "id": "ef881666",
   "metadata": {},
   "source": [
    "Questão 1)"
   ]
  },
  {
   "cell_type": "code",
   "execution_count": 10,
   "id": "867aefc4",
   "metadata": {},
   "outputs": [],
   "source": [
    "#Dados da questão → Ax = b\n",
    "A = np.array([[0.1, 0.2, 0.3],\n",
    "              [0.4, 0.5, 0.6],\n",
    "              [0.7, 0.8, 0.9]\n",
    "             ])\n",
    "\n",
    "b = np.array([0.1, 0.3, 0.5])"
   ]
  },
  {
   "cell_type": "markdown",
   "id": "39458dc3",
   "metadata": {},
   "source": [
    "##### (a)Mostre que a matriz A é singular e descreva o conjunto de soluções do sistema linear Ax = b.\n",
    "\n",
    "A matriz A é singular se o seu determinante for igual a zero. logo:\n",
    "\n",
    "det(A) = (0.1)*(0.5)*(0.9) + (0.4)*(0.8)*(0.3) + (0.7)*(0.2)*(0.6) - (0.3)*(0.5)*(0.7) - (0.2)*(0.4)*(0.9) - (0.1)*(0.6)*(0.8)\n",
    "\n",
    "que resulta em:\n",
    "\n",
    "0.045 + 0.096 + 0.084 - 0.105 - 0.072 - 0.048 = 0.0\n",
    "\n",
    "logo, temos uma matriz singular.\n",
    "\n",
    "Para encontrarmos o conjunto solução, podemos utilizar da matriz extendida:\n",
    "\n",
    "[[0.1, 0.2, 0.3, 0.1],                                 \n",
    " [0.4, 0.5, 0.6, 0.3], se fizermos que L2 = L2-4*L1 <br>\n",
    " [0.7, 0.8, 0.9, 0.5] <br>\n",
    "]\n",
    "\n",
    "[[0.1,  0.2,  0.3,  0.1], <br>\n",
    " [0.0, -0.3, -0.6, -0.1], <br>\n",
    " [0.7,  0.8,  0.9,  0.5], se fizermos que L3 = L3-7*L1 <br>\n",
    "]\n",
    "\n",
    "[[0.1,  0.2,  0.3,  0.1], <br> \n",
    " [0.0, -0.3, -0.6, -0.1], <br>\n",
    " [0.0, -0.6, -1.2, -0.2], se fizermos que L3 = L3-2*L2 <br>\n",
    "]\n",
    "\n",
    "[[0.1,  0.2,  0.3,  0.1], <br>\n",
    " [0.0, -0.3, -0.6, -0.1], <br>\n",
    " [0.0,  0.0,  0.0,  0.0], <br>\n",
    "]\n",
    "\n",
    "com isto, temos o sistema linear:\n",
    "\n",
    "{    0.1x + 0.2y + 0.3z =  0.1  \n",
    "{         - 0.3y - 0.6z = -0.1  → y = -(0.6z-0.1)/0.3  → y = -2z + 1/3 (ii) <br>\n",
    "{                     0 = 0     → Z = Z <br> \n",
    "\n",
    "Disto, temos a seguinte solução:\n",
    "\n",
    "{    0.1x + 0.2y + 0.3z =  0.1  → trazendo (ii) para cá → 0.1x + 0.2(-2z + 1/3) + 0.3z = 0.1   → x-(z-0.66666) = 1 → x = z + 0.3333 <br>\n",
    "{         - 0.3y - 0.6z = -0.1  <br>\n",
    "{                     0 = 0    \n",
    "\n",
    "Logo, a solução é da forma:<br>\n",
    "x =   z + 0.3333 <br>\n",
    "y = -2z + 0.3333<br>\n",
    "z =   z<br>\n",
    "\n",
    "-------------------------------------------------------------------------------"
   ]
  },
  {
   "cell_type": "markdown",
   "id": "29d2e02f",
   "metadata": {},
   "source": [
    "##### (b) Se fôssemos usar o método da eliminação de Gauss com pivotamento parcial para resolver este sistema usando aritmética exata, em que ponto o processo falha?\n",
    "\n",
    "Ocorreria falha pois o método de eliminação de Gauss com pivoteamento parcial teria muitos erros de arredondamento, devido aos denominadores menores que 1, portanto, poderia se propagar erros durante o procedimento de maneira a perder o valor exato.\n",
    "\n",
    "----------------------------------------------------------------------------------------------------------------------------------------------------------------------------------"
   ]
  },
  {
   "cell_type": "markdown",
   "id": "ff64ba57",
   "metadata": {},
   "source": [
    "##### (c) Como algumas das entradas da matriz A não são exatamente representáveis em um sistema de ponto flutuante na base 2, a matriz não é singular quando inserida num computador. Portanto, o método da eliminação de Gauss não falha ao tentar resolver o sistema linear. Resolva o sistema linear Ax = b em python usando a biblioteca Numpy ou SciPy.. Compare a solução calculada com sua descrição do conjunto solução definida no item (a)."
   ]
  },
  {
   "cell_type": "code",
   "execution_count": 11,
   "id": "e4f6282d",
   "metadata": {},
   "outputs": [
    {
     "name": "stdout",
     "output_type": "stream",
     "text": [
      "Determinante de A: 6.661338147750926e-18\n",
      "A matriz A não é singular.\n",
      "\n",
      " Solução única encontrada:\n",
      " [ 0.16145833  0.67708333 -0.171875  ]\n"
     ]
    }
   ],
   "source": [
    "det_A = np.linalg.det(A)\n",
    "print(\"Determinante de A:\", det_A)\n",
    "\n",
    "if abs(det_A) == 0:\n",
    "    print(\"A matriz A é singular.\")\n",
    "else:\n",
    "    print(\"A matriz A não é singular.\")\n",
    "\n",
    "#para encontrar seus valores, podemos usar a função np.linalg.solve, mas como a matriz é singular, o sistema pode ter infinitas soluções ou nenhuma solução.\n",
    "#Vamos verificar se o sistema tem soluções:\n",
    "try:\n",
    "    solucao = np.linalg.solve(A, b)\n",
    "    print(\"\\n Solução única encontrada:\\n\",solucao)\n",
    "except np.linalg.LinAlgError:\n",
    "    print(\"O sistema não tem solução única.\\n\")"
   ]
  },
  {
   "cell_type": "markdown",
   "id": "ba6f0c4d",
   "metadata": {},
   "source": [
    "--<br>\n",
    "\n",
    "Obtivemos como determinante um valor muito próximo de 0, porém, o computador não entende como 0 dado os arredondamentos, por isso, não considera que a matriz seja singular.\n",
    "Pelo mesmo motivo, a solução calculada do sistema é única, mas como vimos no item (a) a solução tem a forma: \n",
    "\n",
    "x =   z + 0.3333 <br>\n",
    "y = -2z + 0.3333<br>\n",
    "z =   z<br>\n",
    "\n",
    "E se aplicarmos o valor de z calculado como único pelo computador, teremos os mesmos resultados:\n",
    "\n",
    "x =   -0.171875 + 0.3333   =  0.16145833<br>\n",
    "y = -2(-0.171875) + 0.3333 =  0.67708333 <br>\n",
    "z =   -0.171875\n",
    "\n",
    "----------------------------------------------------"
   ]
  },
  {
   "cell_type": "markdown",
   "id": "72291116",
   "metadata": {},
   "source": [
    "(d) Qual é o número de condição da matriz A? Quantos dígitos de precisão você espera na solução numé-\n",
    "rica do sistema linear?\n",
    "\n",
    "O número de condição de uma matriz é dada por k(A) = ||A^-1||*||A||\n",
    "\n",
    "Como a matriz é singular, não tem inversa. Com isto, por definição, temos uma matriz que contem número de condição infinito. Como podemos ver abaixo, o código nos dá um valor extremamente alto, indicando o infinito, dado que computacionalmente esse sistema não é singular."
   ]
  },
  {
   "cell_type": "code",
   "execution_count": 12,
   "id": "cda1e040",
   "metadata": {},
   "outputs": [
    {
     "name": "stdout",
     "output_type": "stream",
     "text": [
      "Número de condição da matriz A: 2.1118968335779856e+16\n"
     ]
    }
   ],
   "source": [
    "cond_A = np.linalg.cond(A)\n",
    "print(\"Número de condição da matriz A:\", cond_A)"
   ]
  },
  {
   "cell_type": "code",
   "execution_count": 13,
   "id": "7b72a855",
   "metadata": {},
   "outputs": [
    {
     "name": "stdout",
     "output_type": "stream",
     "text": [
      "\n",
      " Vetor residual:\n",
      " [1.38777878e-17 5.55111512e-17 0.00000000e+00]\n"
     ]
    }
   ],
   "source": [
    "vetor_residual  = b -np.dot(A, solucao)\n",
    "print(\"\\n Vetor residual:\\n\", vetor_residual)"
   ]
  },
  {
   "cell_type": "markdown",
   "id": "6b78aaae",
   "metadata": {},
   "source": [
    "Logo, podemos esperar 16 digitos de precisão em x e y, dado seu erro residual na 17 casa depois da vírgula. Já em z, temos uma precisão indefinida.\n",
    "\n",
    "------------"
   ]
  },
  {
   "cell_type": "markdown",
   "id": "59040b13",
   "metadata": {},
   "source": [
    "(2) (a) Determine a matriz A e o vetor b do sistema linear Ax = b cuja solução corresponde ao vetor f =\n",
    "[f1, . . . , f13] contendo as forças nas barras da treliça."
   ]
  },
  {
   "cell_type": "code",
   "execution_count": 14,
   "id": "81157e5f",
   "metadata": {},
   "outputs": [],
   "source": [
    "al = np.sqrt(2)/2\n",
    "\n",
    "A2 = np.array([[ 0,  1,  0,  0,   0, -1,  0,  0,   0,  0,  0,   0,  0],\n",
    "               [ 0,  0,  1,  0,   0,  0,  0,  0,   0,  0,  0,   0,  0],\n",
    "               [al,  0,  0, -1, -al,  0,  0,  0,   0,  0,  0,   0,  0],\n",
    "               [al,  0,  1,  0,  al,  0,  0,  0,   0,  0,  0,   0,  0],\n",
    "               [ 0,  0,  0,  1,   0,  0,  0, -1,   0,  0,  0,   0,  0],\n",
    "               [ 0,  0,  0,  0,   0,  0,  1,  0,   0,  0,  0,   0,  0],\n",
    "               [ 0,  0,  0,  0,  al,  1,  0,  0, -al, -1,  0,   0,  0],\n",
    "               [ 0,  0,  0,  0,  al,  0,  1,  0,  al,  0,  0,   0,  0],\n",
    "               [ 0,  0,  0,  0,   0,  0,  0,  0,   0,  1,  0,   0, -1],\n",
    "               [ 0,  0,  0,  0,   0,  0,  0,  0,   0,  0,  1,   0,  0],\n",
    "               [ 0,  0,  0,  0,   0,  0,  0,  1,  al,  0,  0, -al,  0],\n",
    "               [ 0,  0,  0,  0,   0,  0,  0,  0,  al,  0,  1,  al,  0],\n",
    "               [ 0,  0,  0,  0,   0,  0,  0,  0,   0,  0,  0,  al,  1]])\n",
    "\n",
    "b2 = np.array([0,10,0,0,0,0,0,15,0,20,0,0,0])"
   ]
  },
  {
   "cell_type": "markdown",
   "id": "7fc638f1",
   "metadata": {},
   "source": [
    "----\n",
    "\n",
    "(b) Resolva o sistema linear usando o python usando a biblioteca Numpy ou SciPy."
   ]
  },
  {
   "cell_type": "code",
   "execution_count": 15,
   "id": "e3ba131a",
   "metadata": {},
   "outputs": [
    {
     "name": "stdout",
     "output_type": "stream",
     "text": [
      "\n",
      " Posto da matriz A2: 13\n",
      "\n",
      " Solução do sistema Ax = b (forças nas barras da treliça):\n",
      " [-28.2842712474619, 20.0, 10.0, -29.999999999999996, 14.142135623730947, 20.0, 0.0, -29.999999999999996, 7.071067811865476, 24.999999999999996, 20.0, -35.35533905932737, 24.999999999999996]\n"
     ]
    }
   ],
   "source": [
    "np.linalg.matrix_rank(A2)\n",
    "print(\"\\n Posto da matriz A2:\", np.linalg.matrix_rank(A2))\n",
    "f = np.linalg.solve(A2, b2).tolist()\n",
    "print(\"\\n Solução do sistema Ax = b (forças nas barras da treliça):\\n\", f)"
   ]
  },
  {
   "cell_type": "markdown",
   "id": "3223be32",
   "metadata": {},
   "source": [
    "---\n",
    "\n",
    "(c) Observe que a matriz A do sistema linear é esparsa. É possível resolver o sistema linear usando os\n",
    "métodos de Gauss-Jacobi? E usando o método de Gauss-Seidel, é possível resolver o sistema linear\n",
    "Ax = b? Justifique sua resposta."
   ]
  },
  {
   "cell_type": "markdown",
   "id": "217d392a",
   "metadata": {},
   "source": [
    "É possível resolver o sistema usando o método de Gauss-Jacobi, pois fazendo uma manipulação de linhas, podemos ver que os valores da diagonal principal são diferentes de 0.\n",
    "\n",
    "```\n",
    " [al,  0,  1,  0,  al,  0,  0,  0,   0,  0,  0,   0,  0]\n",
    " [ 0,  1,  0,  0,   0, -1,  0,  0,   0,  0,  0,   0,  0]\n",
    " [ 0,  0,  1,  0,   0,  0,  0,  0,   0,  0,  0,   0,  0]\n",
    " [al,  0,  0, -1, -al,  0,  0,  0,   0,  0,  0,   0,  0]\n",
    " [ 0,  0,  0,  0,  al,  0,  1,  0,  al,  0,  0,   0,  0]\n",
    " [ 0,  0,  0,  0,  al,  1,  0,  0, -al, -1,  0,   0,  0]\n",
    " [ 0,  0,  0,  0,   0,  0,  1,  0,   0,  0,  0,   0,  0]\n",
    " [ 0,  0,  0,  1,   0,  0,  0, -1,   0,  0,  0,   0,  0]\n",
    " [ 0,  0,  0,  0,   0,  0,  0,  1,  al,  0,  0, -al,  0]\n",
    " [ 0,  0,  0,  0,   0,  0,  0,  0,   0,  1,  0,   0, -1]\n",
    " [ 0,  0,  0,  0,   0,  0,  0,  0,   0,  0,  1,   0,  0]\n",
    " [ 0,  0,  0,  0,   0,  0,  0,  0,  al,  0,  1,  al,  0]\n",
    " [ 0,  0,  0,  0,   0,  0,  0,  0,   0,  0,  0,  al,  1]\n",
    "\n",
    "```\n",
    "\n",
    "É possível resolver o sistema usando o método de Gauss-Seidel, pois ele tem pelo menos uma solução, dado que é possível resolver o sistema, pois temos 13 equações e 13 incógnitas, com isto, temos equações suficientes para encontrar as 13 incógnitas. Também não temos dependência entre as equações (LI).  "
   ]
  }
 ],
 "metadata": {
  "kernelspec": {
   "display_name": "Python 3",
   "language": "python",
   "name": "python3"
  },
  "language_info": {
   "codemirror_mode": {
    "name": "ipython",
    "version": 3
   },
   "file_extension": ".py",
   "mimetype": "text/x-python",
   "name": "python",
   "nbconvert_exporter": "python",
   "pygments_lexer": "ipython3",
   "version": "3.11.2"
  }
 },
 "nbformat": 4,
 "nbformat_minor": 5
}
